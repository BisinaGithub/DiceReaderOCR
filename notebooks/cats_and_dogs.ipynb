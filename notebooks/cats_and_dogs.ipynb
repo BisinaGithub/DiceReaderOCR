{
 "cells": [
  {
   "cell_type": "markdown",
   "metadata": {},
   "source": [
    "Configure um ambiente virtual python conforme o arquivo requirements. "
   ]
  },
  {
   "cell_type": "code",
   "execution_count": null,
   "metadata": {},
   "outputs": [],
   "source": [
    "!curl https://storage.googleapis.com/mledu-datasets/cats_and_dogs_filtered.zip --output ../data/raw/cats_and_dogs_filtered.zip"
   ]
  },
  {
   "cell_type": "code",
   "execution_count": 14,
   "metadata": {},
   "outputs": [],
   "source": [
    "!tar -xf ../data/raw/cats_and_dogs_filtered.zip -C ../data/raw"
   ]
  },
  {
   "cell_type": "code",
   "execution_count": 15,
   "metadata": {},
   "outputs": [],
   "source": [
    "!del \"..\\data\\raw\\cats_and_dogs_filtered.zip\""
   ]
  },
  {
   "cell_type": "code",
   "execution_count": null,
   "metadata": {},
   "outputs": [],
   "source": [
    "%pip install tensorflow\n",
    "%pip install matplotlib"
   ]
  },
  {
   "cell_type": "code",
   "execution_count": 2,
   "metadata": {},
   "outputs": [],
   "source": [
    "import os\n",
    "import matplotlib.pyplot as plt\n",
    "import tensorflow as tf"
   ]
  },
  {
   "cell_type": "code",
   "execution_count": 3,
   "metadata": {},
   "outputs": [
    {
     "name": "stdout",
     "output_type": "stream",
     "text": [
      "Train cats: 1000\n",
      "Train dogs: 1000\n",
      "Validation cats: 500\n",
      "Validation dogs: 500\n"
     ]
    }
   ],
   "source": [
    "dataset_dir = os.path.join('..', 'data', 'raw', 'cats_and_dogs_filtered')\n",
    "\n",
    "dataset_train_dir = os.path.join(dataset_dir, 'train')\n",
    "dataset_train_cats_len = len(os.listdir(os.path.join(dataset_train_dir, 'cats')))\n",
    "dataset_train_dogs_len = len(os.listdir(os.path.join(dataset_train_dir, 'dogs')))\n",
    "\n",
    "dataset_validation_dir = os.path.join(dataset_dir, 'validation')\n",
    "dataset_validation_cats_len = len(os.listdir(os.path.join(dataset_validation_dir, 'cats')))\n",
    "dataset_validation_dogs_len = len(os.listdir(os.path.join(dataset_validation_dir, 'dogs')))\n",
    "\n",
    "print('Train cats:', dataset_train_cats_len)\n",
    "print('Train dogs:', dataset_train_dogs_len)\n",
    "print('Validation cats:', dataset_validation_cats_len)\n",
    "print('Validation dogs:', dataset_validation_dogs_len)"
   ]
  },
  {
   "cell_type": "code",
   "execution_count": 4,
   "metadata": {},
   "outputs": [],
   "source": [
    "image_width = 160\n",
    "image_height = 160\n",
    "image_color_channel = 3\n",
    "image_color_channel_size = 255\n",
    "image_size = (image_width, image_height)\n",
    "image_shape = image_size + (image_color_channel,)\n",
    "\n",
    "batch_size = 32\n",
    "epochs = 20\n",
    "learning_rate = 0.001\n",
    "\n",
    "class_names = ['cat', 'dog']"
   ]
  },
  {
   "cell_type": "code",
   "execution_count": 5,
   "metadata": {},
   "outputs": [
    {
     "name": "stdout",
     "output_type": "stream",
     "text": [
      "Found 2000 files belonging to 2 classes.\n"
     ]
    }
   ],
   "source": [
    "dataset_train = tf.keras.preprocessing.image_dataset_from_directory(\n",
    "    dataset_train_dir,\n",
    "    image_size=image_size,\n",
    "    batch_size=batch_size,\n",
    "    shuffle = True,\n",
    ")"
   ]
  },
  {
   "cell_type": "code",
   "execution_count": 6,
   "metadata": {},
   "outputs": [
    {
     "name": "stdout",
     "output_type": "stream",
     "text": [
      "Found 1000 files belonging to 2 classes.\n"
     ]
    }
   ],
   "source": [
    "dataset_validation = tf.keras.preprocessing.image_dataset_from_directory(\n",
    "    dataset_validation_dir,\n",
    "    image_size=image_size,\n",
    "    batch_size=batch_size,\n",
    "    shuffle = True,\n",
    ")"
   ]
  },
  {
   "cell_type": "code",
   "execution_count": 7,
   "metadata": {},
   "outputs": [
    {
     "name": "stdout",
     "output_type": "stream",
     "text": [
      "Validation Dataset Cardinality: 26\n",
      "Test Dataset Cardinality: 6\n"
     ]
    }
   ],
   "source": [
    "dataset_validation_cardinality = tf.data.experimental.cardinality(dataset_validation)\n",
    "dataset_validation_batches = dataset_validation_cardinality // 5\n",
    "\n",
    "dataset_test = dataset_validation.take(dataset_validation_batches)\n",
    "dataset_validation = dataset_validation.skip(dataset_validation_batches)\n",
    "\n",
    "print('Validation Dataset Cardinality: %d' % tf.data.experimental.cardinality(dataset_validation))\n",
    "print('Test Dataset Cardinality: %d' % tf.data.experimental.cardinality(dataset_test))"
   ]
  },
  {
   "cell_type": "code",
   "execution_count": 8,
   "metadata": {},
   "outputs": [],
   "source": [
    "def plot_dataset(dataset):\n",
    "    plt.gcf().clear()\n",
    "    plt.figure(figsize=(10, 10))\n",
    "\n",
    "    for features, labels in dataset.take(1):\n",
    "        for i in range(9):\n",
    "            plt.subplot(3, 3, i + 1)\n",
    "            plt.axis('off')\n",
    "            plt.imshow(features[i].numpy().astype('uint8'))\n",
    "            plt.title(class_names[labels[i]])\n",
    "            "
   ]
  }
 ],
 "metadata": {
  "kernelspec": {
   "display_name": "venv",
   "language": "python",
   "name": "python3"
  },
  "language_info": {
   "codemirror_mode": {
    "name": "ipython",
    "version": 3
   },
   "file_extension": ".py",
   "mimetype": "text/x-python",
   "name": "python",
   "nbconvert_exporter": "python",
   "pygments_lexer": "ipython3",
   "version": "3.10.0"
  }
 },
 "nbformat": 4,
 "nbformat_minor": 2
}
